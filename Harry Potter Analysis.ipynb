{
 "cells": [
  {
   "cell_type": "code",
   "execution_count": 1,
   "id": "cb70cc11-6ea9-4f10-b1d3-645e11e57d8e",
   "metadata": {
    "tags": []
   },
   "outputs": [],
   "source": [
    "import pandas as pd\n",
    "import numpy as np\n",
    "import seaborn as sns"
   ]
  },
  {
   "cell_type": "code",
   "execution_count": 2,
   "id": "08085962-80d2-4c32-b149-ee2ae4249952",
   "metadata": {
    "tags": []
   },
   "outputs": [],
   "source": [
    "df = pd.read_csv(\"books.csv\")"
   ]
  },
  {
   "cell_type": "code",
   "execution_count": 3,
   "id": "6bc95ec2-ad30-4363-aad1-6ac57b1507af",
   "metadata": {
    "tags": []
   },
   "outputs": [
    {
     "data": {
      "text/html": [
       "<div>\n",
       "<style scoped>\n",
       "    .dataframe tbody tr th:only-of-type {\n",
       "        vertical-align: middle;\n",
       "    }\n",
       "\n",
       "    .dataframe tbody tr th {\n",
       "        vertical-align: top;\n",
       "    }\n",
       "\n",
       "    .dataframe thead th {\n",
       "        text-align: right;\n",
       "    }\n",
       "</style>\n",
       "<table border=\"1\" class=\"dataframe\">\n",
       "  <thead>\n",
       "    <tr style=\"text-align: right;\">\n",
       "      <th></th>\n",
       "      <th>book_id</th>\n",
       "      <th>goodreads_book_id</th>\n",
       "      <th>best_book_id</th>\n",
       "      <th>work_id</th>\n",
       "      <th>books_count</th>\n",
       "      <th>isbn</th>\n",
       "      <th>isbn13</th>\n",
       "      <th>authors</th>\n",
       "      <th>original_publication_year</th>\n",
       "      <th>original_title</th>\n",
       "      <th>...</th>\n",
       "      <th>ratings_count</th>\n",
       "      <th>work_ratings_count</th>\n",
       "      <th>work_text_reviews_count</th>\n",
       "      <th>ratings_1</th>\n",
       "      <th>ratings_2</th>\n",
       "      <th>ratings_3</th>\n",
       "      <th>ratings_4</th>\n",
       "      <th>ratings_5</th>\n",
       "      <th>image_url</th>\n",
       "      <th>small_image_url</th>\n",
       "    </tr>\n",
       "  </thead>\n",
       "  <tbody>\n",
       "    <tr>\n",
       "      <th>0</th>\n",
       "      <td>1</td>\n",
       "      <td>2767052</td>\n",
       "      <td>2767052</td>\n",
       "      <td>2792775</td>\n",
       "      <td>272</td>\n",
       "      <td>439023483</td>\n",
       "      <td>9.780439e+12</td>\n",
       "      <td>Suzanne Collins</td>\n",
       "      <td>2008.0</td>\n",
       "      <td>The Hunger Games</td>\n",
       "      <td>...</td>\n",
       "      <td>4780653</td>\n",
       "      <td>4942365</td>\n",
       "      <td>155254</td>\n",
       "      <td>66715</td>\n",
       "      <td>127936</td>\n",
       "      <td>560092</td>\n",
       "      <td>1481305</td>\n",
       "      <td>2706317</td>\n",
       "      <td>https://images.gr-assets.com/books/1447303603m...</td>\n",
       "      <td>https://images.gr-assets.com/books/1447303603s...</td>\n",
       "    </tr>\n",
       "    <tr>\n",
       "      <th>1</th>\n",
       "      <td>2</td>\n",
       "      <td>3</td>\n",
       "      <td>3</td>\n",
       "      <td>4640799</td>\n",
       "      <td>491</td>\n",
       "      <td>439554934</td>\n",
       "      <td>9.780440e+12</td>\n",
       "      <td>J.K. Rowling, Mary GrandPré</td>\n",
       "      <td>1997.0</td>\n",
       "      <td>Harry Potter and the Philosopher's Stone</td>\n",
       "      <td>...</td>\n",
       "      <td>4602479</td>\n",
       "      <td>4800065</td>\n",
       "      <td>75867</td>\n",
       "      <td>75504</td>\n",
       "      <td>101676</td>\n",
       "      <td>455024</td>\n",
       "      <td>1156318</td>\n",
       "      <td>3011543</td>\n",
       "      <td>https://images.gr-assets.com/books/1474154022m...</td>\n",
       "      <td>https://images.gr-assets.com/books/1474154022s...</td>\n",
       "    </tr>\n",
       "    <tr>\n",
       "      <th>2</th>\n",
       "      <td>3</td>\n",
       "      <td>41865</td>\n",
       "      <td>41865</td>\n",
       "      <td>3212258</td>\n",
       "      <td>226</td>\n",
       "      <td>316015849</td>\n",
       "      <td>9.780316e+12</td>\n",
       "      <td>Stephenie Meyer</td>\n",
       "      <td>2005.0</td>\n",
       "      <td>Twilight</td>\n",
       "      <td>...</td>\n",
       "      <td>3866839</td>\n",
       "      <td>3916824</td>\n",
       "      <td>95009</td>\n",
       "      <td>456191</td>\n",
       "      <td>436802</td>\n",
       "      <td>793319</td>\n",
       "      <td>875073</td>\n",
       "      <td>1355439</td>\n",
       "      <td>https://images.gr-assets.com/books/1361039443m...</td>\n",
       "      <td>https://images.gr-assets.com/books/1361039443s...</td>\n",
       "    </tr>\n",
       "    <tr>\n",
       "      <th>3</th>\n",
       "      <td>6</td>\n",
       "      <td>11870085</td>\n",
       "      <td>11870085</td>\n",
       "      <td>16827462</td>\n",
       "      <td>226</td>\n",
       "      <td>525478817</td>\n",
       "      <td>9.780525e+12</td>\n",
       "      <td>John Green</td>\n",
       "      <td>2012.0</td>\n",
       "      <td>The Fault in Our Stars</td>\n",
       "      <td>...</td>\n",
       "      <td>2346404</td>\n",
       "      <td>2478609</td>\n",
       "      <td>140739</td>\n",
       "      <td>47994</td>\n",
       "      <td>92723</td>\n",
       "      <td>327550</td>\n",
       "      <td>698471</td>\n",
       "      <td>1311871</td>\n",
       "      <td>https://images.gr-assets.com/books/1360206420m...</td>\n",
       "      <td>https://images.gr-assets.com/books/1360206420s...</td>\n",
       "    </tr>\n",
       "    <tr>\n",
       "      <th>4</th>\n",
       "      <td>12</td>\n",
       "      <td>13335037</td>\n",
       "      <td>13335037</td>\n",
       "      <td>13155899</td>\n",
       "      <td>210</td>\n",
       "      <td>62024035</td>\n",
       "      <td>9.780062e+12</td>\n",
       "      <td>Veronica Roth</td>\n",
       "      <td>2011.0</td>\n",
       "      <td>Divergent</td>\n",
       "      <td>...</td>\n",
       "      <td>1903563</td>\n",
       "      <td>2216814</td>\n",
       "      <td>101023</td>\n",
       "      <td>36315</td>\n",
       "      <td>82870</td>\n",
       "      <td>310297</td>\n",
       "      <td>673028</td>\n",
       "      <td>1114304</td>\n",
       "      <td>https://images.gr-assets.com/books/1328559506m...</td>\n",
       "      <td>https://images.gr-assets.com/books/1328559506s...</td>\n",
       "    </tr>\n",
       "  </tbody>\n",
       "</table>\n",
       "<p>5 rows × 23 columns</p>\n",
       "</div>"
      ],
      "text/plain": [
       "   book_id  goodreads_book_id  best_book_id   work_id  books_count       isbn  \\\n",
       "0        1            2767052       2767052   2792775          272  439023483   \n",
       "1        2                  3             3   4640799          491  439554934   \n",
       "2        3              41865         41865   3212258          226  316015849   \n",
       "3        6           11870085      11870085  16827462          226  525478817   \n",
       "4       12           13335037      13335037  13155899          210   62024035   \n",
       "\n",
       "         isbn13                      authors  original_publication_year  \\\n",
       "0  9.780439e+12              Suzanne Collins                     2008.0   \n",
       "1  9.780440e+12  J.K. Rowling, Mary GrandPré                     1997.0   \n",
       "2  9.780316e+12              Stephenie Meyer                     2005.0   \n",
       "3  9.780525e+12                   John Green                     2012.0   \n",
       "4  9.780062e+12                Veronica Roth                     2011.0   \n",
       "\n",
       "                             original_title  ... ratings_count  \\\n",
       "0                          The Hunger Games  ...       4780653   \n",
       "1  Harry Potter and the Philosopher's Stone  ...       4602479   \n",
       "2                                  Twilight  ...       3866839   \n",
       "3                    The Fault in Our Stars  ...       2346404   \n",
       "4                                 Divergent  ...       1903563   \n",
       "\n",
       "  work_ratings_count  work_text_reviews_count  ratings_1  ratings_2  \\\n",
       "0            4942365                   155254      66715     127936   \n",
       "1            4800065                    75867      75504     101676   \n",
       "2            3916824                    95009     456191     436802   \n",
       "3            2478609                   140739      47994      92723   \n",
       "4            2216814                   101023      36315      82870   \n",
       "\n",
       "   ratings_3  ratings_4  ratings_5  \\\n",
       "0     560092    1481305    2706317   \n",
       "1     455024    1156318    3011543   \n",
       "2     793319     875073    1355439   \n",
       "3     327550     698471    1311871   \n",
       "4     310297     673028    1114304   \n",
       "\n",
       "                                           image_url  \\\n",
       "0  https://images.gr-assets.com/books/1447303603m...   \n",
       "1  https://images.gr-assets.com/books/1474154022m...   \n",
       "2  https://images.gr-assets.com/books/1361039443m...   \n",
       "3  https://images.gr-assets.com/books/1360206420m...   \n",
       "4  https://images.gr-assets.com/books/1328559506m...   \n",
       "\n",
       "                                     small_image_url  \n",
       "0  https://images.gr-assets.com/books/1447303603s...  \n",
       "1  https://images.gr-assets.com/books/1474154022s...  \n",
       "2  https://images.gr-assets.com/books/1361039443s...  \n",
       "3  https://images.gr-assets.com/books/1360206420s...  \n",
       "4  https://images.gr-assets.com/books/1328559506s...  \n",
       "\n",
       "[5 rows x 23 columns]"
      ]
     },
     "execution_count": 3,
     "metadata": {},
     "output_type": "execute_result"
    }
   ],
   "source": [
    "df.head()"
   ]
  },
  {
   "cell_type": "code",
   "execution_count": 4,
   "id": "084f4f1f-898a-4630-bb9c-487a0fa02b5b",
   "metadata": {
    "tags": []
   },
   "outputs": [
    {
     "data": {
      "text/plain": [
       "book_id                        0\n",
       "goodreads_book_id              0\n",
       "best_book_id                   0\n",
       "work_id                        0\n",
       "books_count                    0\n",
       "isbn                          52\n",
       "isbn13                        44\n",
       "authors                        0\n",
       "original_publication_year      3\n",
       "original_title                52\n",
       "title                          0\n",
       "language_code                109\n",
       "average_rating                 0\n",
       "ratings_count                  0\n",
       "work_ratings_count             0\n",
       "work_text_reviews_count        0\n",
       "ratings_1                      0\n",
       "ratings_2                      0\n",
       "ratings_3                      0\n",
       "ratings_4                      0\n",
       "ratings_5                      0\n",
       "image_url                      0\n",
       "small_image_url                0\n",
       "dtype: int64"
      ]
     },
     "execution_count": 4,
     "metadata": {},
     "output_type": "execute_result"
    }
   ],
   "source": [
    "cols = df.columns\n",
    "df[cols].isnull().sum()"
   ]
  },
  {
   "cell_type": "code",
   "execution_count": 5,
   "id": "51f2e8ec-01af-45fe-85dc-51359ca8e24b",
   "metadata": {
    "tags": []
   },
   "outputs": [
    {
     "data": {
      "text/plain": [
       "book_id                      0\n",
       "goodreads_book_id            0\n",
       "best_book_id                 0\n",
       "work_id                      0\n",
       "books_count                  0\n",
       "isbn                         0\n",
       "isbn13                       0\n",
       "authors                      0\n",
       "original_publication_year    0\n",
       "original_title               0\n",
       "title                        0\n",
       "language_code                0\n",
       "average_rating               0\n",
       "ratings_count                0\n",
       "work_ratings_count           0\n",
       "work_text_reviews_count      0\n",
       "ratings_1                    0\n",
       "ratings_2                    0\n",
       "ratings_3                    0\n",
       "ratings_4                    0\n",
       "ratings_5                    0\n",
       "image_url                    0\n",
       "small_image_url              0\n",
       "dtype: int64"
      ]
     },
     "execution_count": 5,
     "metadata": {},
     "output_type": "execute_result"
    }
   ],
   "source": [
    "#drop rows with null values\n",
    "new_df = df.dropna()\n",
    "new_df[cols].isnull().sum()"
   ]
  },
  {
   "cell_type": "code",
   "execution_count": 6,
   "id": "a3757551-8106-4974-b8f1-06941a4d3743",
   "metadata": {
    "tags": []
   },
   "outputs": [],
   "source": [
    "#remove duplicates\n",
    "new_df = df.drop_duplicates()"
   ]
  },
  {
   "cell_type": "code",
   "execution_count": 7,
   "id": "202a1f14-f3ab-4827-b438-f5f51a13dfe3",
   "metadata": {
    "tags": []
   },
   "outputs": [],
   "source": [
    "#remove irrelevant columns\n",
    "new_df = new_df.drop(['book_id', 'goodreads_book_id', 'best_book_id', 'work_id', 'books_count', 'isbn', 'isbn13', 'original_title', 'language_code', 'work_ratings_count', 'work_text_reviews_count', 'ratings_1', 'ratings_2', 'ratings_3', 'ratings_4', 'ratings_5', 'image_url', 'small_image_url'], axis = 1)  "
   ]
  },
  {
   "cell_type": "code",
   "execution_count": 8,
   "id": "ed4d719b-d090-4631-8009-ea16de793512",
   "metadata": {
    "tags": []
   },
   "outputs": [
    {
     "data": {
      "text/html": [
       "<div>\n",
       "<style scoped>\n",
       "    .dataframe tbody tr th:only-of-type {\n",
       "        vertical-align: middle;\n",
       "    }\n",
       "\n",
       "    .dataframe tbody tr th {\n",
       "        vertical-align: top;\n",
       "    }\n",
       "\n",
       "    .dataframe thead th {\n",
       "        text-align: right;\n",
       "    }\n",
       "</style>\n",
       "<table border=\"1\" class=\"dataframe\">\n",
       "  <thead>\n",
       "    <tr style=\"text-align: right;\">\n",
       "      <th></th>\n",
       "      <th>authors</th>\n",
       "      <th>original_publication_year</th>\n",
       "      <th>title</th>\n",
       "      <th>average_rating</th>\n",
       "      <th>ratings_count</th>\n",
       "    </tr>\n",
       "  </thead>\n",
       "  <tbody>\n",
       "    <tr>\n",
       "      <th>0</th>\n",
       "      <td>Suzanne Collins</td>\n",
       "      <td>2008.0</td>\n",
       "      <td>The Hunger Games (The Hunger Games, #1)</td>\n",
       "      <td>4.34</td>\n",
       "      <td>4780653</td>\n",
       "    </tr>\n",
       "    <tr>\n",
       "      <th>1</th>\n",
       "      <td>J.K. Rowling, Mary GrandPré</td>\n",
       "      <td>1997.0</td>\n",
       "      <td>Harry Potter and the Sorcerer's Stone (Harry P...</td>\n",
       "      <td>4.44</td>\n",
       "      <td>4602479</td>\n",
       "    </tr>\n",
       "    <tr>\n",
       "      <th>2</th>\n",
       "      <td>Stephenie Meyer</td>\n",
       "      <td>2005.0</td>\n",
       "      <td>Twilight (Twilight, #1)</td>\n",
       "      <td>3.57</td>\n",
       "      <td>3866839</td>\n",
       "    </tr>\n",
       "    <tr>\n",
       "      <th>3</th>\n",
       "      <td>John Green</td>\n",
       "      <td>2012.0</td>\n",
       "      <td>The Fault in Our Stars</td>\n",
       "      <td>4.26</td>\n",
       "      <td>2346404</td>\n",
       "    </tr>\n",
       "    <tr>\n",
       "      <th>4</th>\n",
       "      <td>Veronica Roth</td>\n",
       "      <td>2011.0</td>\n",
       "      <td>Divergent (Divergent, #1)</td>\n",
       "      <td>4.24</td>\n",
       "      <td>1903563</td>\n",
       "    </tr>\n",
       "  </tbody>\n",
       "</table>\n",
       "</div>"
      ],
      "text/plain": [
       "                       authors  original_publication_year  \\\n",
       "0              Suzanne Collins                     2008.0   \n",
       "1  J.K. Rowling, Mary GrandPré                     1997.0   \n",
       "2              Stephenie Meyer                     2005.0   \n",
       "3                   John Green                     2012.0   \n",
       "4                Veronica Roth                     2011.0   \n",
       "\n",
       "                                               title  average_rating  \\\n",
       "0            The Hunger Games (The Hunger Games, #1)            4.34   \n",
       "1  Harry Potter and the Sorcerer's Stone (Harry P...            4.44   \n",
       "2                            Twilight (Twilight, #1)            3.57   \n",
       "3                             The Fault in Our Stars            4.26   \n",
       "4                          Divergent (Divergent, #1)            4.24   \n",
       "\n",
       "   ratings_count  \n",
       "0        4780653  \n",
       "1        4602479  \n",
       "2        3866839  \n",
       "3        2346404  \n",
       "4        1903563  "
      ]
     },
     "execution_count": 8,
     "metadata": {},
     "output_type": "execute_result"
    }
   ],
   "source": [
    "new_df.head()"
   ]
  },
  {
   "cell_type": "code",
   "execution_count": 26,
   "id": "ed8895ad-faa8-45c8-956e-8e06c3fde403",
   "metadata": {
    "tags": []
   },
   "outputs": [],
   "source": [
    "#select Harry Potter book series from the dataset\n",
    "values = ['J.K. Rowling, Mary GrandPré', 'J.K. Rowling, Mary GrandPré, Rufus Beck']\n",
    "hp = new_df[new_df['authors'].isin(values)]"
   ]
  },
  {
   "cell_type": "code",
   "execution_count": 27,
   "id": "0ea1f45b-ac73-4f6c-bb47-ac909bf6ebd1",
   "metadata": {
    "tags": []
   },
   "outputs": [
    {
     "name": "stdout",
     "output_type": "stream",
     "text": [
      "                                    authors  original_publication_year  \\\n",
      "1               J.K. Rowling, Mary GrandPré                     1997.0   \n",
      "6   J.K. Rowling, Mary GrandPré, Rufus Beck                     1999.0   \n",
      "8               J.K. Rowling, Mary GrandPré                     2003.0   \n",
      "9               J.K. Rowling, Mary GrandPré                     1998.0   \n",
      "10              J.K. Rowling, Mary GrandPré                     2000.0   \n",
      "11              J.K. Rowling, Mary GrandPré                     2007.0   \n",
      "12              J.K. Rowling, Mary GrandPré                     2005.0   \n",
      "\n",
      "                                                title  average_rating  \\\n",
      "1   Harry Potter and the Sorcerer's Stone (Harry P...            4.44   \n",
      "6   Harry Potter and the Prisoner of Azkaban (Harr...            4.53   \n",
      "8   Harry Potter and the Order of the Phoenix (Har...            4.46   \n",
      "9   Harry Potter and the Chamber of Secrets (Harry...            4.37   \n",
      "10  Harry Potter and the Goblet of Fire (Harry Pot...            4.53   \n",
      "11  Harry Potter and the Deathly Hallows (Harry Po...            4.61   \n",
      "12  Harry Potter and the Half-Blood Prince (Harry ...            4.54   \n",
      "\n",
      "    ratings_count  \n",
      "1         4602479  \n",
      "6         1832823  \n",
      "8         1735368  \n",
      "9         1779331  \n",
      "10        1753043  \n",
      "11        1746574  \n",
      "12        1678823  \n"
     ]
    }
   ],
   "source": [
    "print(hp)"
   ]
  },
  {
   "cell_type": "code",
   "execution_count": 28,
   "id": "164ccce9-3430-41c1-aba2-9d1dcfbd2ada",
   "metadata": {
    "tags": []
   },
   "outputs": [
    {
     "data": {
      "text/plain": [
       "4.497142857142857"
      ]
     },
     "execution_count": 28,
     "metadata": {},
     "output_type": "execute_result"
    }
   ],
   "source": [
    "#calculate average rating of Harry Potter books\n",
    "hp.loc[:, 'average_rating'].mean()"
   ]
  },
  {
   "cell_type": "code",
   "execution_count": 29,
   "id": "50b521f4-4a55-4323-8fe1-d6554b0e752c",
   "metadata": {
    "tags": []
   },
   "outputs": [
    {
     "data": {
      "text/plain": [
       "4602479"
      ]
     },
     "execution_count": 29,
     "metadata": {},
     "output_type": "execute_result"
    }
   ],
   "source": [
    "#find most selling books within the Harry Potter series\n",
    "hp['ratings_count'].max()"
   ]
  },
  {
   "cell_type": "code",
   "execution_count": null,
   "id": "833829bc-c8de-434b-aa9d-16554fe23d29",
   "metadata": {},
   "outputs": [],
   "source": []
  }
 ],
 "metadata": {
  "kernelspec": {
   "display_name": "Python 3 (ipykernel)",
   "language": "python",
   "name": "python3"
  },
  "language_info": {
   "codemirror_mode": {
    "name": "ipython",
    "version": 3
   },
   "file_extension": ".py",
   "mimetype": "text/x-python",
   "name": "python",
   "nbconvert_exporter": "python",
   "pygments_lexer": "ipython3",
   "version": "3.11.4"
  }
 },
 "nbformat": 4,
 "nbformat_minor": 5
}
